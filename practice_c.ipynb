{
  "nbformat": 4,
  "nbformat_minor": 0,
  "metadata": {
    "colab": {
      "provenance": []
    },
    "kernelspec": {
      "name": "python3",
      "display_name": "Python 3"
    },
    "language_info": {
      "name": "python"
    }
  },
  "cells": [
    {
      "cell_type": "markdown",
      "source": [
        "# Web Scrapping"
      ],
      "metadata": {
        "id": "5gtcgYLn-1k2"
      }
    },
    {
      "cell_type": "code",
      "execution_count": 1,
      "metadata": {
        "id": "yX3mEkdS-xSC"
      },
      "outputs": [],
      "source": [
        "import requests"
      ]
    },
    {
      "cell_type": "code",
      "source": [
        "from bs4 import BeautifulSoup"
      ],
      "metadata": {
        "id": "rlLTanUw_Q87"
      },
      "execution_count": 2,
      "outputs": []
    },
    {
      "cell_type": "code",
      "source": [
        "HEADER = ({'User-Agent':'Mozilla/5.0 (Windows NT 10.0; Win64; x64) AppleWebKit/537.36 (KHTML, like Gecko) Chrome/74.0.3729.169 Safari/537.36'})"
      ],
      "metadata": {
        "id": "8DkDpBxuCx2h"
      },
      "execution_count": 3,
      "outputs": []
    },
    {
      "cell_type": "code",
      "source": [
        "def getdata(site_url):\n",
        "  req = requests.get(site_url, headers = HEADER)\n",
        "  return req.text"
      ],
      "metadata": {
        "id": "lDzLqr2CCzFz"
      },
      "execution_count": 4,
      "outputs": []
    },
    {
      "cell_type": "code",
      "source": [
        "def gethtml(site_url):\n",
        "  data = getdata(site_url)\n",
        "  soup = BeautifulSoup(data, 'html.parser')\n",
        "  return(soup)"
      ],
      "metadata": {
        "id": "8uvjTxHxDSBM"
      },
      "execution_count": 5,
      "outputs": []
    },
    {
      "cell_type": "code",
      "source": [
        "site_url = \"https://www.flipkart.com/asus-tuf-gaming-a15-ryzen-5-hexa-core-amd-r5-4600h-8-gb-1-tb-ssd-windows-11-home-4-gb-graphics-nvidia-geforce-gtx-1650-144-hz-fa506ihrz-hn112w-laptop/p/itm20d472c5059c0?pid=COMGGJZFJRZY45WX&lid=LSTCOMGGJZFJRZY45WXD02LFG&marketplace=FLIPKART&fm=neo%2Fmerchandising&iid=M_b91993d6-aefa-4ab9-b3eb-80d93fd4eacb_25_G9SH8YV2O3HD_MC.COMGGJZFJRZY45WX&ppt=None&ppn=None&ssid=gqp3benpxc0000001683688081160&otracker=clp_pmu_v2_Gaming%2BLaptops_2_25.productCard.PMU_V2_ASUS%2BTUF%2BGaming%2BA15%2BRyzen%2B5%2BHexa%2BCore%2BAMD%2BR5-4600H%2B-%2B%25288%2BGB%252F1%2BTB%2BSSD%252FWindows%2B11%2BHome%252F4%2BGB%2BGraphics%252FNVIDIA%2BGeForce%2BGTX%2B1650%252F144%2BHz%2529%2BFA506IHRZ-HN112W%2BGaming%2BLaptop_laptops-store_COMGGJZFJRZY45WX_neo%2Fmerchandising_1&otracker1=clp_pmu_v2_PINNED_neo%2Fmerchandising_Gaming%2BLaptops_LIST_productCard_cc_2_NA_view-all&cid=COMGGJZFJRZY45WX\""
      ],
      "metadata": {
        "id": "r_8ZxhgKD2ER"
      },
      "execution_count": 6,
      "outputs": []
    },
    {
      "cell_type": "code",
      "source": [
        "soup = gethtml(site_url)"
      ],
      "metadata": {
        "id": "Mo6LjO6rEGb8"
      },
      "execution_count": 7,
      "outputs": []
    },
    {
      "cell_type": "code",
      "source": [
        "def getCustomerName(soup):\n",
        "    data_string = \"\"\n",
        "    customer_list = []\n",
        "    \n",
        "    for item in soup.find_all(\"p\", class_=\"_2V5EHH\"):\n",
        "        data_string = data_string + item.get_text()\n",
        "        customer_list.append(data_string)\n",
        "        data_string = \"\"\n",
        "    return customer_list\n"
      ],
      "metadata": {
        "id": "PbBGrzJgEO4t"
      },
      "execution_count": 11,
      "outputs": []
    },
    {
      "cell_type": "code",
      "source": [
        "customer_name = getCustomerName(soup)\n",
        "print(customer_name)"
      ],
      "metadata": {
        "colab": {
          "base_uri": "https://localhost:8080/"
        },
        "id": "67-W8lGyElCa",
        "outputId": "0b9a559b-ba92-4041-ff90-f7556a6d8689"
      },
      "execution_count": 13,
      "outputs": [
        {
          "output_type": "stream",
          "name": "stdout",
          "text": [
            "['prateek kataria', 'Flipkart Customer', 'Sourav Dutta', 'Flipkart Customer', 'Flipkart Customer', 'Pitash Indwar', 'Daksh  Sharma', 'Ankur Barik', 'Krishna Bangar', 'Ankit  Singh']\n"
          ]
        }
      ]
    },
    {
      "cell_type": "code",
      "source": [
        "def getCustomerReview(soup):\n",
        "  review_string = \"\"\n",
        "  review_list = []\n",
        "\n",
        "  for item in soup.find_all(\"div\", class_ = \"t-ZTKy\"):\n",
        "    review_string = review_string + item.get_text()\n",
        "    review_list.append(review_string)\n",
        "    review_string = \"\"\n",
        "  return review_list"
      ],
      "metadata": {
        "id": "6w3HukZEGSgk"
      },
      "execution_count": 14,
      "outputs": []
    },
    {
      "cell_type": "code",
      "source": [
        "customer_review = getCustomerReview(soup)\n",
        "print(customer_review)"
      ],
      "metadata": {
        "colab": {
          "base_uri": "https://localhost:8080/"
        },
        "id": "kizmRlIvIKxv",
        "outputId": "66c945a6-754c-424f-a230-228148d0f1e1"
      },
      "execution_count": 15,
      "outputs": [
        {
          "output_type": "stream",
          "name": "stdout",
          "text": [
            "['This is what Asus stands for. (Gaming). Laptop is quite powerful with sharp looks and RGB keyboard is cherry on the cake.1 TB SSD makes it faster than its other variants. The laptop is made up of tough plastic material. Overall the laptop is best for gaming. GTA V can be played with very High graphics and with 144 htz the game gets smooth as butter.If you need a laptop for gaming and performance in budget, this is the perfect choice for you. Just go for it.READ MORE', \"Magnificent display, games run smoothly, though the battery drains very quickly while gaming... Web cam is ordinary though works with google meet and zoom like a charm. Besides 1 TB ssd storage makes the laptop a little heavier compared to the 512 gb variant but it's great a buy as you get more storage.. I played games like CS Go, Genshin impact, etc and it all ran smoothly , and watched animes and sports too, were quite astonishing in the 144Hz display screen. And speaking of the speakers, t...READ MORE\", 'Just mind blowing at this price. Such big storage of 1TB SSD, 4gb graphics card of gtx1650, 8gb Ram. So smooth gameplay experience of some heavy games like GTA V, JUMP FORCE, FAR CRY 4 etc. Its just awesome and in my opinion one can buy it if their is at this range.READ MORE', 'Best laptop in this  price it awesome then I think go for it all are awesome I become a premium man after getting this lippy 🤩🤩🤩I loved it giving 5/5...READ MORE', 'This is a very budget friendly gaming laptop and comes with very good processor of Ryzen 5 4600H and Best Thing is that at this price point you got 1TB SSD usually we got 512 GB SSDREAD MORE', 'Really value for moneyREAD MORE', 'The Performance Of This Laptop Is Totally Lit🔥I Tried GTA 5 And Valorant They Work Extremely Well❤️And For Maximum Performance During Game Play It On Charge.144 Hertz Display Is Awesome.The Only Con Is The Battery Backup.READ MORE', \"The laptop's performance is very good. Games run smoothly on this laptopREAD MORE\", 'ONE OF THE BEST PRODUCT FROM ASUS . LOVED THE PRODUCT AND THE WAY IT WAS DELIVERED.READ MORE', 'Loved this beast ❤️READ MORE']\n"
          ]
        }
      ]
    },
    {
      "cell_type": "code",
      "source": [
        "def getCustomerRating(soup):\n",
        "  rating_string = \"\"\n",
        "  rating_list = []\n",
        "\n",
        "  for item in soup.find_all(\"div\", class_ = \"_3LWZlK _1BLPMq\"):\n",
        "    rating_string = rating_string + item.get_text()\n",
        "    rating_list.append(rating_string)\n",
        "    rating_string = \"\"\n",
        "  return rating_list"
      ],
      "metadata": {
        "id": "tWkTLp_aIeJV"
      },
      "execution_count": 16,
      "outputs": []
    },
    {
      "cell_type": "code",
      "source": [
        "customer_rating = getCustomerRating(soup)\n",
        "print(customer_rating)"
      ],
      "metadata": {
        "colab": {
          "base_uri": "https://localhost:8080/"
        },
        "id": "bDQZ8xVHJscp",
        "outputId": "24a654ad-ac62-4952-fa61-2df525eb34b4"
      },
      "execution_count": 17,
      "outputs": [
        {
          "output_type": "stream",
          "name": "stdout",
          "text": [
            "['5', '4', '5', '5', '5', '5', '5', '5', '5', '5']\n"
          ]
        }
      ]
    },
    {
      "cell_type": "code",
      "source": [
        "import pandas as pd"
      ],
      "metadata": {
        "id": "xW3Jta9jJ8Hz"
      },
      "execution_count": 18,
      "outputs": []
    },
    {
      "cell_type": "code",
      "source": [
        "customer_data = {'Name':customer_name, 'Review':customer_review, 'Rating':customer_rating}"
      ],
      "metadata": {
        "id": "1B4TIMI2KB1R"
      },
      "execution_count": 20,
      "outputs": []
    },
    {
      "cell_type": "code",
      "source": [
        "df = pd.DataFrame(customer_data)"
      ],
      "metadata": {
        "id": "6OrpyH5QKEVh"
      },
      "execution_count": 21,
      "outputs": []
    },
    {
      "cell_type": "code",
      "source": [
        "df"
      ],
      "metadata": {
        "colab": {
          "base_uri": "https://localhost:8080/",
          "height": 363
        },
        "id": "MumRW3L6KQti",
        "outputId": "ccff7602-9be6-4d15-b6d7-a3d696d933ec"
      },
      "execution_count": 22,
      "outputs": [
        {
          "output_type": "execute_result",
          "data": {
            "text/plain": [
              "                Name                                             Review Rating\n",
              "0    prateek kataria  This is what Asus stands for. (Gaming). Laptop...      5\n",
              "1  Flipkart Customer  Magnificent display, games run smoothly, thoug...      4\n",
              "2       Sourav Dutta  Just mind blowing at this price. Such big stor...      5\n",
              "3  Flipkart Customer  Best laptop in this  price it awesome then I t...      5\n",
              "4  Flipkart Customer  This is a very budget friendly gaming laptop a...      5\n",
              "5      Pitash Indwar                    Really value for moneyREAD MORE      5\n",
              "6      Daksh  Sharma  The Performance Of This Laptop Is Totally Lit🔥...      5\n",
              "7        Ankur Barik  The laptop's performance is very good. Games r...      5\n",
              "8     Krishna Bangar  ONE OF THE BEST PRODUCT FROM ASUS . LOVED THE ...      5\n",
              "9       Ankit  Singh                       Loved this beast ❤️READ MORE      5"
            ],
            "text/html": [
              "\n",
              "  <div id=\"df-b9b813f7-537c-4a58-9d05-2474a7977df4\">\n",
              "    <div class=\"colab-df-container\">\n",
              "      <div>\n",
              "<style scoped>\n",
              "    .dataframe tbody tr th:only-of-type {\n",
              "        vertical-align: middle;\n",
              "    }\n",
              "\n",
              "    .dataframe tbody tr th {\n",
              "        vertical-align: top;\n",
              "    }\n",
              "\n",
              "    .dataframe thead th {\n",
              "        text-align: right;\n",
              "    }\n",
              "</style>\n",
              "<table border=\"1\" class=\"dataframe\">\n",
              "  <thead>\n",
              "    <tr style=\"text-align: right;\">\n",
              "      <th></th>\n",
              "      <th>Name</th>\n",
              "      <th>Review</th>\n",
              "      <th>Rating</th>\n",
              "    </tr>\n",
              "  </thead>\n",
              "  <tbody>\n",
              "    <tr>\n",
              "      <th>0</th>\n",
              "      <td>prateek kataria</td>\n",
              "      <td>This is what Asus stands for. (Gaming). Laptop...</td>\n",
              "      <td>5</td>\n",
              "    </tr>\n",
              "    <tr>\n",
              "      <th>1</th>\n",
              "      <td>Flipkart Customer</td>\n",
              "      <td>Magnificent display, games run smoothly, thoug...</td>\n",
              "      <td>4</td>\n",
              "    </tr>\n",
              "    <tr>\n",
              "      <th>2</th>\n",
              "      <td>Sourav Dutta</td>\n",
              "      <td>Just mind blowing at this price. Such big stor...</td>\n",
              "      <td>5</td>\n",
              "    </tr>\n",
              "    <tr>\n",
              "      <th>3</th>\n",
              "      <td>Flipkart Customer</td>\n",
              "      <td>Best laptop in this  price it awesome then I t...</td>\n",
              "      <td>5</td>\n",
              "    </tr>\n",
              "    <tr>\n",
              "      <th>4</th>\n",
              "      <td>Flipkart Customer</td>\n",
              "      <td>This is a very budget friendly gaming laptop a...</td>\n",
              "      <td>5</td>\n",
              "    </tr>\n",
              "    <tr>\n",
              "      <th>5</th>\n",
              "      <td>Pitash Indwar</td>\n",
              "      <td>Really value for moneyREAD MORE</td>\n",
              "      <td>5</td>\n",
              "    </tr>\n",
              "    <tr>\n",
              "      <th>6</th>\n",
              "      <td>Daksh  Sharma</td>\n",
              "      <td>The Performance Of This Laptop Is Totally Lit🔥...</td>\n",
              "      <td>5</td>\n",
              "    </tr>\n",
              "    <tr>\n",
              "      <th>7</th>\n",
              "      <td>Ankur Barik</td>\n",
              "      <td>The laptop's performance is very good. Games r...</td>\n",
              "      <td>5</td>\n",
              "    </tr>\n",
              "    <tr>\n",
              "      <th>8</th>\n",
              "      <td>Krishna Bangar</td>\n",
              "      <td>ONE OF THE BEST PRODUCT FROM ASUS . LOVED THE ...</td>\n",
              "      <td>5</td>\n",
              "    </tr>\n",
              "    <tr>\n",
              "      <th>9</th>\n",
              "      <td>Ankit  Singh</td>\n",
              "      <td>Loved this beast ❤️READ MORE</td>\n",
              "      <td>5</td>\n",
              "    </tr>\n",
              "  </tbody>\n",
              "</table>\n",
              "</div>\n",
              "      <button class=\"colab-df-convert\" onclick=\"convertToInteractive('df-b9b813f7-537c-4a58-9d05-2474a7977df4')\"\n",
              "              title=\"Convert this dataframe to an interactive table.\"\n",
              "              style=\"display:none;\">\n",
              "        \n",
              "  <svg xmlns=\"http://www.w3.org/2000/svg\" height=\"24px\"viewBox=\"0 0 24 24\"\n",
              "       width=\"24px\">\n",
              "    <path d=\"M0 0h24v24H0V0z\" fill=\"none\"/>\n",
              "    <path d=\"M18.56 5.44l.94 2.06.94-2.06 2.06-.94-2.06-.94-.94-2.06-.94 2.06-2.06.94zm-11 1L8.5 8.5l.94-2.06 2.06-.94-2.06-.94L8.5 2.5l-.94 2.06-2.06.94zm10 10l.94 2.06.94-2.06 2.06-.94-2.06-.94-.94-2.06-.94 2.06-2.06.94z\"/><path d=\"M17.41 7.96l-1.37-1.37c-.4-.4-.92-.59-1.43-.59-.52 0-1.04.2-1.43.59L10.3 9.45l-7.72 7.72c-.78.78-.78 2.05 0 2.83L4 21.41c.39.39.9.59 1.41.59.51 0 1.02-.2 1.41-.59l7.78-7.78 2.81-2.81c.8-.78.8-2.07 0-2.86zM5.41 20L4 18.59l7.72-7.72 1.47 1.35L5.41 20z\"/>\n",
              "  </svg>\n",
              "      </button>\n",
              "      \n",
              "  <style>\n",
              "    .colab-df-container {\n",
              "      display:flex;\n",
              "      flex-wrap:wrap;\n",
              "      gap: 12px;\n",
              "    }\n",
              "\n",
              "    .colab-df-convert {\n",
              "      background-color: #E8F0FE;\n",
              "      border: none;\n",
              "      border-radius: 50%;\n",
              "      cursor: pointer;\n",
              "      display: none;\n",
              "      fill: #1967D2;\n",
              "      height: 32px;\n",
              "      padding: 0 0 0 0;\n",
              "      width: 32px;\n",
              "    }\n",
              "\n",
              "    .colab-df-convert:hover {\n",
              "      background-color: #E2EBFA;\n",
              "      box-shadow: 0px 1px 2px rgba(60, 64, 67, 0.3), 0px 1px 3px 1px rgba(60, 64, 67, 0.15);\n",
              "      fill: #174EA6;\n",
              "    }\n",
              "\n",
              "    [theme=dark] .colab-df-convert {\n",
              "      background-color: #3B4455;\n",
              "      fill: #D2E3FC;\n",
              "    }\n",
              "\n",
              "    [theme=dark] .colab-df-convert:hover {\n",
              "      background-color: #434B5C;\n",
              "      box-shadow: 0px 1px 3px 1px rgba(0, 0, 0, 0.15);\n",
              "      filter: drop-shadow(0px 1px 2px rgba(0, 0, 0, 0.3));\n",
              "      fill: #FFFFFF;\n",
              "    }\n",
              "  </style>\n",
              "\n",
              "      <script>\n",
              "        const buttonEl =\n",
              "          document.querySelector('#df-b9b813f7-537c-4a58-9d05-2474a7977df4 button.colab-df-convert');\n",
              "        buttonEl.style.display =\n",
              "          google.colab.kernel.accessAllowed ? 'block' : 'none';\n",
              "\n",
              "        async function convertToInteractive(key) {\n",
              "          const element = document.querySelector('#df-b9b813f7-537c-4a58-9d05-2474a7977df4');\n",
              "          const dataTable =\n",
              "            await google.colab.kernel.invokeFunction('convertToInteractive',\n",
              "                                                     [key], {});\n",
              "          if (!dataTable) return;\n",
              "\n",
              "          const docLinkHtml = 'Like what you see? Visit the ' +\n",
              "            '<a target=\"_blank\" href=https://colab.research.google.com/notebooks/data_table.ipynb>data table notebook</a>'\n",
              "            + ' to learn more about interactive tables.';\n",
              "          element.innerHTML = '';\n",
              "          dataTable['output_type'] = 'display_data';\n",
              "          await google.colab.output.renderOutput(dataTable, element);\n",
              "          const docLink = document.createElement('div');\n",
              "          docLink.innerHTML = docLinkHtml;\n",
              "          element.appendChild(docLink);\n",
              "        }\n",
              "      </script>\n",
              "    </div>\n",
              "  </div>\n",
              "  "
            ]
          },
          "metadata": {},
          "execution_count": 22
        }
      ]
    },
    {
      "cell_type": "code",
      "source": [],
      "metadata": {
        "id": "hX6Xah24KTMy"
      },
      "execution_count": null,
      "outputs": []
    }
  ]
}